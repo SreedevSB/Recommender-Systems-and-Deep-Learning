{
  "nbformat": 4,
  "nbformat_minor": 0,
  "metadata": {
    "colab": {
      "name": "user-user-collaborative-filtering",
      "provenance": [],
      "toc_visible": true,
      "authorship_tag": "ABX9TyMbWpU5dHqzPfMh539yT0km",
      "include_colab_link": true
    },
    "kernelspec": {
      "display_name": "Python 3",
      "name": "python3"
    },
    "language_info": {
      "name": "python"
    }
  },
  "cells": [
    {
      "cell_type": "markdown",
      "metadata": {
        "id": "view-in-github",
        "colab_type": "text"
      },
      "source": [
        "<a href=\"https://colab.research.google.com/github/SreedevSB/Recommender-Systems-and-Deep-Learning/blob/main/user_user_collaborative_filtering.ipynb\" target=\"_parent\"><img src=\"https://colab.research.google.com/assets/colab-badge.svg\" alt=\"Open In Colab\"/></a>"
      ]
    },
    {
      "cell_type": "markdown",
      "metadata": {
        "id": "H-LDXtGIlM5w"
      },
      "source": [
        "##Import dataset"
      ]
    },
    {
      "cell_type": "code",
      "metadata": {
        "id": "pGlnCu7MkIRx"
      },
      "source": [
        "from google.colab import files\n",
        "files.upload()"
      ],
      "execution_count": null,
      "outputs": []
    },
    {
      "cell_type": "code",
      "metadata": {
        "id": "UunzKH-DkXQ6"
      },
      "source": [
        "!mkdir /root/.kaggle\n",
        "!chmod 777 kaggle.json\n",
        "!mv kaggle.json /root/.kaggle/\n"
      ],
      "execution_count": null,
      "outputs": []
    },
    {
      "cell_type": "code",
      "metadata": {
        "id": "2LX9-AXSkr-y"
      },
      "source": [
        "!chmod 600 /root/.kaggle/kaggle.json"
      ],
      "execution_count": null,
      "outputs": []
    },
    {
      "cell_type": "code",
      "metadata": {
        "colab": {
          "base_uri": "https://localhost:8080/"
        },
        "id": "gAUuGGcEj2Wc",
        "outputId": "86169220-a927-4bbe-fe0e-148e4d4e6630"
      },
      "source": [
        "!kaggle datasets download grouplens/movielens-20m-dataset"
      ],
      "execution_count": null,
      "outputs": [
        {
          "output_type": "stream",
          "text": [
            "Downloading movielens-20m-dataset.zip to /content\n",
            " 95% 186M/195M [00:01<00:00, 92.1MB/s]\n",
            "100% 195M/195M [00:01<00:00, 104MB/s] \n"
          ],
          "name": "stdout"
        }
      ]
    },
    {
      "cell_type": "code",
      "metadata": {
        "colab": {
          "base_uri": "https://localhost:8080/"
        },
        "id": "EBrRoVbLlAeI",
        "outputId": "831fbf31-15d8-4922-cc4c-c6e38d610609"
      },
      "source": [
        "!unzip movielens-20m-dataset.zip"
      ],
      "execution_count": null,
      "outputs": [
        {
          "output_type": "stream",
          "text": [
            "Archive:  movielens-20m-dataset.zip\n",
            "  inflating: genome_scores.csv       \n",
            "  inflating: genome_tags.csv         \n",
            "  inflating: link.csv                \n",
            "  inflating: movie.csv               \n",
            "  inflating: rating.csv              \n",
            "  inflating: tag.csv                 \n"
          ],
          "name": "stdout"
        }
      ]
    },
    {
      "cell_type": "markdown",
      "metadata": {
        "id": "Qk9LfO2olRK6"
      },
      "source": [
        "##Preprocessing"
      ]
    },
    {
      "cell_type": "code",
      "metadata": {
        "id": "n24YI8mDlUUY"
      },
      "source": [
        "import numpy as np\n",
        "import pandas as pd"
      ],
      "execution_count": null,
      "outputs": []
    },
    {
      "cell_type": "code",
      "metadata": {
        "id": "R53lwwnOlXqB"
      },
      "source": [
        "ratings = pd.read_csv('rating.csv')"
      ],
      "execution_count": null,
      "outputs": []
    },
    {
      "cell_type": "code",
      "metadata": {
        "colab": {
          "base_uri": "https://localhost:8080/",
          "height": 419
        },
        "id": "1zpSxE7ele9_",
        "outputId": "f646b1cc-692e-402a-fffa-e406244c79cc"
      },
      "source": [
        "ratings"
      ],
      "execution_count": null,
      "outputs": [
        {
          "output_type": "execute_result",
          "data": {
            "text/html": [
              "<div>\n",
              "<style scoped>\n",
              "    .dataframe tbody tr th:only-of-type {\n",
              "        vertical-align: middle;\n",
              "    }\n",
              "\n",
              "    .dataframe tbody tr th {\n",
              "        vertical-align: top;\n",
              "    }\n",
              "\n",
              "    .dataframe thead th {\n",
              "        text-align: right;\n",
              "    }\n",
              "</style>\n",
              "<table border=\"1\" class=\"dataframe\">\n",
              "  <thead>\n",
              "    <tr style=\"text-align: right;\">\n",
              "      <th></th>\n",
              "      <th>userId</th>\n",
              "      <th>movieId</th>\n",
              "      <th>rating</th>\n",
              "      <th>timestamp</th>\n",
              "    </tr>\n",
              "  </thead>\n",
              "  <tbody>\n",
              "    <tr>\n",
              "      <th>0</th>\n",
              "      <td>1</td>\n",
              "      <td>2</td>\n",
              "      <td>3.5</td>\n",
              "      <td>2005-04-02 23:53:47</td>\n",
              "    </tr>\n",
              "    <tr>\n",
              "      <th>1</th>\n",
              "      <td>1</td>\n",
              "      <td>29</td>\n",
              "      <td>3.5</td>\n",
              "      <td>2005-04-02 23:31:16</td>\n",
              "    </tr>\n",
              "    <tr>\n",
              "      <th>2</th>\n",
              "      <td>1</td>\n",
              "      <td>32</td>\n",
              "      <td>3.5</td>\n",
              "      <td>2005-04-02 23:33:39</td>\n",
              "    </tr>\n",
              "    <tr>\n",
              "      <th>3</th>\n",
              "      <td>1</td>\n",
              "      <td>47</td>\n",
              "      <td>3.5</td>\n",
              "      <td>2005-04-02 23:32:07</td>\n",
              "    </tr>\n",
              "    <tr>\n",
              "      <th>4</th>\n",
              "      <td>1</td>\n",
              "      <td>50</td>\n",
              "      <td>3.5</td>\n",
              "      <td>2005-04-02 23:29:40</td>\n",
              "    </tr>\n",
              "    <tr>\n",
              "      <th>...</th>\n",
              "      <td>...</td>\n",
              "      <td>...</td>\n",
              "      <td>...</td>\n",
              "      <td>...</td>\n",
              "    </tr>\n",
              "    <tr>\n",
              "      <th>20000258</th>\n",
              "      <td>138493</td>\n",
              "      <td>68954</td>\n",
              "      <td>4.5</td>\n",
              "      <td>2009-11-13 15:42:00</td>\n",
              "    </tr>\n",
              "    <tr>\n",
              "      <th>20000259</th>\n",
              "      <td>138493</td>\n",
              "      <td>69526</td>\n",
              "      <td>4.5</td>\n",
              "      <td>2009-12-03 18:31:48</td>\n",
              "    </tr>\n",
              "    <tr>\n",
              "      <th>20000260</th>\n",
              "      <td>138493</td>\n",
              "      <td>69644</td>\n",
              "      <td>3.0</td>\n",
              "      <td>2009-12-07 18:10:57</td>\n",
              "    </tr>\n",
              "    <tr>\n",
              "      <th>20000261</th>\n",
              "      <td>138493</td>\n",
              "      <td>70286</td>\n",
              "      <td>5.0</td>\n",
              "      <td>2009-11-13 15:42:24</td>\n",
              "    </tr>\n",
              "    <tr>\n",
              "      <th>20000262</th>\n",
              "      <td>138493</td>\n",
              "      <td>71619</td>\n",
              "      <td>2.5</td>\n",
              "      <td>2009-10-17 20:25:36</td>\n",
              "    </tr>\n",
              "  </tbody>\n",
              "</table>\n",
              "<p>20000263 rows × 4 columns</p>\n",
              "</div>"
            ],
            "text/plain": [
              "          userId  movieId  rating            timestamp\n",
              "0              1        2     3.5  2005-04-02 23:53:47\n",
              "1              1       29     3.5  2005-04-02 23:31:16\n",
              "2              1       32     3.5  2005-04-02 23:33:39\n",
              "3              1       47     3.5  2005-04-02 23:32:07\n",
              "4              1       50     3.5  2005-04-02 23:29:40\n",
              "...          ...      ...     ...                  ...\n",
              "20000258  138493    68954     4.5  2009-11-13 15:42:00\n",
              "20000259  138493    69526     4.5  2009-12-03 18:31:48\n",
              "20000260  138493    69644     3.0  2009-12-07 18:10:57\n",
              "20000261  138493    70286     5.0  2009-11-13 15:42:24\n",
              "20000262  138493    71619     2.5  2009-10-17 20:25:36\n",
              "\n",
              "[20000263 rows x 4 columns]"
            ]
          },
          "metadata": {
            "tags": []
          },
          "execution_count": 3
        }
      ]
    },
    {
      "cell_type": "code",
      "metadata": {
        "colab": {
          "base_uri": "https://localhost:8080/"
        },
        "id": "OFMHn-Mnll_J",
        "outputId": "5ad690be-438f-4010-fee6-d9854701a738"
      },
      "source": [
        "print(len(ratings.userId.unique()))\n",
        "print(max(ratings.userId))"
      ],
      "execution_count": null,
      "outputs": [
        {
          "output_type": "stream",
          "text": [
            "138493\n",
            "138493\n"
          ],
          "name": "stdout"
        }
      ]
    },
    {
      "cell_type": "code",
      "metadata": {
        "colab": {
          "base_uri": "https://localhost:8080/"
        },
        "id": "DpVDXlkMrO_D",
        "outputId": "0c08c327-ae98-4278-f9dd-fc367ab60105"
      },
      "source": [
        "print(len(ratings.movieId.unique()))\n",
        "print(max(ratings.movieId))"
      ],
      "execution_count": null,
      "outputs": [
        {
          "output_type": "stream",
          "text": [
            "26744\n",
            "131262\n"
          ],
          "name": "stdout"
        }
      ]
    },
    {
      "cell_type": "code",
      "metadata": {
        "id": "Shu0LcFBrUOu"
      },
      "source": [
        "ratings.userId = ratings.userId-1"
      ],
      "execution_count": null,
      "outputs": []
    },
    {
      "cell_type": "code",
      "metadata": {
        "id": "GJNEEuB7rZqY"
      },
      "source": [
        "#creating mapping for movieId\n",
        "count = 0\n",
        "d = dict()\n",
        "for id in list(ratings.movieId.unique()):\n",
        "  d[id] = count\n",
        "  count+=1\n",
        "print(d)\n",
        "ratings[\"movieId\"] = ratings.apply(lambda x : d[x[\"movieId\"]], axis=1)"
      ],
      "execution_count": null,
      "outputs": []
    },
    {
      "cell_type": "code",
      "metadata": {
        "colab": {
          "base_uri": "https://localhost:8080/",
          "height": 419
        },
        "id": "aXYaIvIruPih",
        "outputId": "4e7a73c9-bea3-4d2e-89e3-d0a62b7ead58"
      },
      "source": [
        "ratings"
      ],
      "execution_count": null,
      "outputs": [
        {
          "output_type": "execute_result",
          "data": {
            "text/html": [
              "<div>\n",
              "<style scoped>\n",
              "    .dataframe tbody tr th:only-of-type {\n",
              "        vertical-align: middle;\n",
              "    }\n",
              "\n",
              "    .dataframe tbody tr th {\n",
              "        vertical-align: top;\n",
              "    }\n",
              "\n",
              "    .dataframe thead th {\n",
              "        text-align: right;\n",
              "    }\n",
              "</style>\n",
              "<table border=\"1\" class=\"dataframe\">\n",
              "  <thead>\n",
              "    <tr style=\"text-align: right;\">\n",
              "      <th></th>\n",
              "      <th>userId</th>\n",
              "      <th>movieId</th>\n",
              "      <th>rating</th>\n",
              "      <th>timestamp</th>\n",
              "    </tr>\n",
              "  </thead>\n",
              "  <tbody>\n",
              "    <tr>\n",
              "      <th>0</th>\n",
              "      <td>0</td>\n",
              "      <td>0</td>\n",
              "      <td>3.5</td>\n",
              "      <td>2005-04-02 23:53:47</td>\n",
              "    </tr>\n",
              "    <tr>\n",
              "      <th>1</th>\n",
              "      <td>0</td>\n",
              "      <td>1</td>\n",
              "      <td>3.5</td>\n",
              "      <td>2005-04-02 23:31:16</td>\n",
              "    </tr>\n",
              "    <tr>\n",
              "      <th>2</th>\n",
              "      <td>0</td>\n",
              "      <td>2</td>\n",
              "      <td>3.5</td>\n",
              "      <td>2005-04-02 23:33:39</td>\n",
              "    </tr>\n",
              "    <tr>\n",
              "      <th>3</th>\n",
              "      <td>0</td>\n",
              "      <td>3</td>\n",
              "      <td>3.5</td>\n",
              "      <td>2005-04-02 23:32:07</td>\n",
              "    </tr>\n",
              "    <tr>\n",
              "      <th>4</th>\n",
              "      <td>0</td>\n",
              "      <td>4</td>\n",
              "      <td>3.5</td>\n",
              "      <td>2005-04-02 23:29:40</td>\n",
              "    </tr>\n",
              "    <tr>\n",
              "      <th>...</th>\n",
              "      <td>...</td>\n",
              "      <td>...</td>\n",
              "      <td>...</td>\n",
              "      <td>...</td>\n",
              "    </tr>\n",
              "    <tr>\n",
              "      <th>20000258</th>\n",
              "      <td>138492</td>\n",
              "      <td>1814</td>\n",
              "      <td>4.5</td>\n",
              "      <td>2009-11-13 15:42:00</td>\n",
              "    </tr>\n",
              "    <tr>\n",
              "      <th>20000259</th>\n",
              "      <td>138492</td>\n",
              "      <td>1037</td>\n",
              "      <td>4.5</td>\n",
              "      <td>2009-12-03 18:31:48</td>\n",
              "    </tr>\n",
              "    <tr>\n",
              "      <th>20000260</th>\n",
              "      <td>138492</td>\n",
              "      <td>3950</td>\n",
              "      <td>3.0</td>\n",
              "      <td>2009-12-07 18:10:57</td>\n",
              "    </tr>\n",
              "    <tr>\n",
              "      <th>20000261</th>\n",
              "      <td>138492</td>\n",
              "      <td>1818</td>\n",
              "      <td>5.0</td>\n",
              "      <td>2009-11-13 15:42:24</td>\n",
              "    </tr>\n",
              "    <tr>\n",
              "      <th>20000262</th>\n",
              "      <td>138492</td>\n",
              "      <td>4010</td>\n",
              "      <td>2.5</td>\n",
              "      <td>2009-10-17 20:25:36</td>\n",
              "    </tr>\n",
              "  </tbody>\n",
              "</table>\n",
              "<p>20000263 rows × 4 columns</p>\n",
              "</div>"
            ],
            "text/plain": [
              "          userId  movieId  rating            timestamp\n",
              "0              0        0     3.5  2005-04-02 23:53:47\n",
              "1              0        1     3.5  2005-04-02 23:31:16\n",
              "2              0        2     3.5  2005-04-02 23:33:39\n",
              "3              0        3     3.5  2005-04-02 23:32:07\n",
              "4              0        4     3.5  2005-04-02 23:29:40\n",
              "...          ...      ...     ...                  ...\n",
              "20000258  138492     1814     4.5  2009-11-13 15:42:00\n",
              "20000259  138492     1037     4.5  2009-12-03 18:31:48\n",
              "20000260  138492     3950     3.0  2009-12-07 18:10:57\n",
              "20000261  138492     1818     5.0  2009-11-13 15:42:24\n",
              "20000262  138492     4010     2.5  2009-10-17 20:25:36\n",
              "\n",
              "[20000263 rows x 4 columns]"
            ]
          },
          "metadata": {
            "tags": []
          },
          "execution_count": 6
        }
      ]
    },
    {
      "cell_type": "markdown",
      "metadata": {
        "id": "sVl1f7k8XNHG"
      },
      "source": [
        "## Create a smaller version of the dataset"
      ]
    },
    {
      "cell_type": "code",
      "metadata": {
        "id": "HwVxdy1PXMb0"
      },
      "source": [
        "from collections import Counter"
      ],
      "execution_count": null,
      "outputs": []
    },
    {
      "cell_type": "code",
      "metadata": {
        "id": "MVfbjOQE8KiR"
      },
      "source": [
        "userId_counts = Counter(ratings.userId)\n",
        "movieId_counts = Counter(ratings.movieId)"
      ],
      "execution_count": null,
      "outputs": []
    },
    {
      "cell_type": "code",
      "metadata": {
        "id": "LQcFwACZ7w1_"
      },
      "source": [
        "N = ratings.userId.max() + 1 # Number of users\n",
        "M = ratings.movieId.max() + 1 # Number of movies"
      ],
      "execution_count": null,
      "outputs": []
    },
    {
      "cell_type": "code",
      "metadata": {
        "id": "YYHRFco48j34"
      },
      "source": [
        "n = 1000 #10000 # Number of users to be chosen\n",
        "m = 200 #2000 # Number of movies to be chosen"
      ],
      "execution_count": null,
      "outputs": []
    },
    {
      "cell_type": "code",
      "metadata": {
        "id": "J1_DIETE8wVH"
      },
      "source": [
        "userIds = [u for (u,count) in userId_counts.most_common(n)]\n",
        "movieIds = [m for (m,count) in movieId_counts.most_common(m)]"
      ],
      "execution_count": null,
      "outputs": []
    },
    {
      "cell_type": "code",
      "metadata": {
        "id": "CuQPWiF6-VKK"
      },
      "source": [
        "ratings_small = ratings[ratings.userId.isin(userIds) & ratings.movieId.isin(movieIds)].copy()"
      ],
      "execution_count": null,
      "outputs": []
    },
    {
      "cell_type": "code",
      "metadata": {
        "colab": {
          "base_uri": "https://localhost:8080/",
          "height": 419
        },
        "id": "76tBLf8e-o-g",
        "outputId": "d6da5223-0fad-49be-81a8-0d65d658b822"
      },
      "source": [
        "ratings_small"
      ],
      "execution_count": null,
      "outputs": [
        {
          "output_type": "execute_result",
          "data": {
            "text/html": [
              "<div>\n",
              "<style scoped>\n",
              "    .dataframe tbody tr th:only-of-type {\n",
              "        vertical-align: middle;\n",
              "    }\n",
              "\n",
              "    .dataframe tbody tr th {\n",
              "        vertical-align: top;\n",
              "    }\n",
              "\n",
              "    .dataframe thead th {\n",
              "        text-align: right;\n",
              "    }\n",
              "</style>\n",
              "<table border=\"1\" class=\"dataframe\">\n",
              "  <thead>\n",
              "    <tr style=\"text-align: right;\">\n",
              "      <th></th>\n",
              "      <th>userId</th>\n",
              "      <th>movieId</th>\n",
              "      <th>rating</th>\n",
              "      <th>timestamp</th>\n",
              "    </tr>\n",
              "  </thead>\n",
              "  <tbody>\n",
              "    <tr>\n",
              "      <th>19846</th>\n",
              "      <td>155</td>\n",
              "      <td>227</td>\n",
              "      <td>5.0</td>\n",
              "      <td>2002-11-19 20:54:26</td>\n",
              "    </tr>\n",
              "    <tr>\n",
              "      <th>19847</th>\n",
              "      <td>155</td>\n",
              "      <td>0</td>\n",
              "      <td>5.0</td>\n",
              "      <td>2002-12-26 21:20:49</td>\n",
              "    </tr>\n",
              "    <tr>\n",
              "      <th>19851</th>\n",
              "      <td>155</td>\n",
              "      <td>364</td>\n",
              "      <td>4.0</td>\n",
              "      <td>2002-11-20 19:55:17</td>\n",
              "    </tr>\n",
              "    <tr>\n",
              "      <th>19854</th>\n",
              "      <td>155</td>\n",
              "      <td>365</td>\n",
              "      <td>4.0</td>\n",
              "      <td>2002-12-26 23:13:17</td>\n",
              "    </tr>\n",
              "    <tr>\n",
              "      <th>19855</th>\n",
              "      <td>155</td>\n",
              "      <td>386</td>\n",
              "      <td>5.0</td>\n",
              "      <td>2002-12-06 19:49:14</td>\n",
              "    </tr>\n",
              "    <tr>\n",
              "      <th>...</th>\n",
              "      <td>...</td>\n",
              "      <td>...</td>\n",
              "      <td>...</td>\n",
              "      <td>...</td>\n",
              "    </tr>\n",
              "    <tr>\n",
              "      <th>19979054</th>\n",
              "      <td>138324</td>\n",
              "      <td>855</td>\n",
              "      <td>4.5</td>\n",
              "      <td>2009-01-24 18:20:00</td>\n",
              "    </tr>\n",
              "    <tr>\n",
              "      <th>19979058</th>\n",
              "      <td>138324</td>\n",
              "      <td>163</td>\n",
              "      <td>4.0</td>\n",
              "      <td>2009-01-24 18:23:03</td>\n",
              "    </tr>\n",
              "    <tr>\n",
              "      <th>19979183</th>\n",
              "      <td>138324</td>\n",
              "      <td>173</td>\n",
              "      <td>4.5</td>\n",
              "      <td>2009-01-24 18:20:25</td>\n",
              "    </tr>\n",
              "    <tr>\n",
              "      <th>19979387</th>\n",
              "      <td>138324</td>\n",
              "      <td>913</td>\n",
              "      <td>4.5</td>\n",
              "      <td>2009-01-24 18:16:58</td>\n",
              "    </tr>\n",
              "    <tr>\n",
              "      <th>19979561</th>\n",
              "      <td>138324</td>\n",
              "      <td>998</td>\n",
              "      <td>5.0</td>\n",
              "      <td>2009-01-24 18:17:04</td>\n",
              "    </tr>\n",
              "  </tbody>\n",
              "</table>\n",
              "<p>167035 rows × 4 columns</p>\n",
              "</div>"
            ],
            "text/plain": [
              "          userId  movieId  rating            timestamp\n",
              "19846        155      227     5.0  2002-11-19 20:54:26\n",
              "19847        155        0     5.0  2002-12-26 21:20:49\n",
              "19851        155      364     4.0  2002-11-20 19:55:17\n",
              "19854        155      365     4.0  2002-12-26 23:13:17\n",
              "19855        155      386     5.0  2002-12-06 19:49:14\n",
              "...          ...      ...     ...                  ...\n",
              "19979054  138324      855     4.5  2009-01-24 18:20:00\n",
              "19979058  138324      163     4.0  2009-01-24 18:23:03\n",
              "19979183  138324      173     4.5  2009-01-24 18:20:25\n",
              "19979387  138324      913     4.5  2009-01-24 18:16:58\n",
              "19979561  138324      998     5.0  2009-01-24 18:17:04\n",
              "\n",
              "[167035 rows x 4 columns]"
            ]
          },
          "metadata": {
            "tags": []
          },
          "execution_count": 13
        }
      ]
    },
    {
      "cell_type": "code",
      "metadata": {
        "id": "OxHrK0f4_IRZ"
      },
      "source": [
        "#reassign consecutive userIds and movieIds\n",
        "\n",
        "userId_map = dict()\n",
        "count=0\n",
        "for id in list(ratings_small.userId.unique()):\n",
        "  userId_map[id] = count\n",
        "  count+=1\n",
        "ratings_small['userId'] = ratings_small.apply(lambda x : userId_map[x['userId']], axis=1)\n",
        "\n",
        "movieId_map = dict()\n",
        "count=0\n",
        "for id in list(ratings_small.movieId.unique()):\n",
        "  movieId_map[id] = count\n",
        "  count+=1\n",
        "ratings_small['movieId'] = ratings_small.apply(lambda x : movieId_map[x['movieId']], axis=1)"
      ],
      "execution_count": null,
      "outputs": []
    },
    {
      "cell_type": "code",
      "metadata": {
        "colab": {
          "base_uri": "https://localhost:8080/",
          "height": 419
        },
        "id": "85o5pDBeCIyR",
        "outputId": "939857c0-10d3-4dfc-c4cc-29fdbd627b3b"
      },
      "source": [
        "ratings_small"
      ],
      "execution_count": null,
      "outputs": [
        {
          "output_type": "execute_result",
          "data": {
            "text/html": [
              "<div>\n",
              "<style scoped>\n",
              "    .dataframe tbody tr th:only-of-type {\n",
              "        vertical-align: middle;\n",
              "    }\n",
              "\n",
              "    .dataframe tbody tr th {\n",
              "        vertical-align: top;\n",
              "    }\n",
              "\n",
              "    .dataframe thead th {\n",
              "        text-align: right;\n",
              "    }\n",
              "</style>\n",
              "<table border=\"1\" class=\"dataframe\">\n",
              "  <thead>\n",
              "    <tr style=\"text-align: right;\">\n",
              "      <th></th>\n",
              "      <th>userId</th>\n",
              "      <th>movieId</th>\n",
              "      <th>rating</th>\n",
              "      <th>timestamp</th>\n",
              "    </tr>\n",
              "  </thead>\n",
              "  <tbody>\n",
              "    <tr>\n",
              "      <th>19846</th>\n",
              "      <td>0</td>\n",
              "      <td>0</td>\n",
              "      <td>5.0</td>\n",
              "      <td>2002-11-19 20:54:26</td>\n",
              "    </tr>\n",
              "    <tr>\n",
              "      <th>19847</th>\n",
              "      <td>0</td>\n",
              "      <td>1</td>\n",
              "      <td>5.0</td>\n",
              "      <td>2002-12-26 21:20:49</td>\n",
              "    </tr>\n",
              "    <tr>\n",
              "      <th>19851</th>\n",
              "      <td>0</td>\n",
              "      <td>2</td>\n",
              "      <td>4.0</td>\n",
              "      <td>2002-11-20 19:55:17</td>\n",
              "    </tr>\n",
              "    <tr>\n",
              "      <th>19854</th>\n",
              "      <td>0</td>\n",
              "      <td>3</td>\n",
              "      <td>4.0</td>\n",
              "      <td>2002-12-26 23:13:17</td>\n",
              "    </tr>\n",
              "    <tr>\n",
              "      <th>19855</th>\n",
              "      <td>0</td>\n",
              "      <td>4</td>\n",
              "      <td>5.0</td>\n",
              "      <td>2002-12-06 19:49:14</td>\n",
              "    </tr>\n",
              "    <tr>\n",
              "      <th>...</th>\n",
              "      <td>...</td>\n",
              "      <td>...</td>\n",
              "      <td>...</td>\n",
              "      <td>...</td>\n",
              "    </tr>\n",
              "    <tr>\n",
              "      <th>19979054</th>\n",
              "      <td>999</td>\n",
              "      <td>190</td>\n",
              "      <td>4.5</td>\n",
              "      <td>2009-01-24 18:20:00</td>\n",
              "    </tr>\n",
              "    <tr>\n",
              "      <th>19979058</th>\n",
              "      <td>999</td>\n",
              "      <td>191</td>\n",
              "      <td>4.0</td>\n",
              "      <td>2009-01-24 18:23:03</td>\n",
              "    </tr>\n",
              "    <tr>\n",
              "      <th>19979183</th>\n",
              "      <td>999</td>\n",
              "      <td>192</td>\n",
              "      <td>4.5</td>\n",
              "      <td>2009-01-24 18:20:25</td>\n",
              "    </tr>\n",
              "    <tr>\n",
              "      <th>19979387</th>\n",
              "      <td>999</td>\n",
              "      <td>199</td>\n",
              "      <td>4.5</td>\n",
              "      <td>2009-01-24 18:16:58</td>\n",
              "    </tr>\n",
              "    <tr>\n",
              "      <th>19979561</th>\n",
              "      <td>999</td>\n",
              "      <td>193</td>\n",
              "      <td>5.0</td>\n",
              "      <td>2009-01-24 18:17:04</td>\n",
              "    </tr>\n",
              "  </tbody>\n",
              "</table>\n",
              "<p>167035 rows × 4 columns</p>\n",
              "</div>"
            ],
            "text/plain": [
              "          userId  movieId  rating            timestamp\n",
              "19846          0        0     5.0  2002-11-19 20:54:26\n",
              "19847          0        1     5.0  2002-12-26 21:20:49\n",
              "19851          0        2     4.0  2002-11-20 19:55:17\n",
              "19854          0        3     4.0  2002-12-26 23:13:17\n",
              "19855          0        4     5.0  2002-12-06 19:49:14\n",
              "...          ...      ...     ...                  ...\n",
              "19979054     999      190     4.5  2009-01-24 18:20:00\n",
              "19979058     999      191     4.0  2009-01-24 18:23:03\n",
              "19979183     999      192     4.5  2009-01-24 18:20:25\n",
              "19979387     999      199     4.5  2009-01-24 18:16:58\n",
              "19979561     999      193     5.0  2009-01-24 18:17:04\n",
              "\n",
              "[167035 rows x 4 columns]"
            ]
          },
          "metadata": {
            "tags": []
          },
          "execution_count": 15
        }
      ]
    },
    {
      "cell_type": "markdown",
      "metadata": {
        "id": "oo7j1Q-OFBPb"
      },
      "source": [
        "## Create lookup dictionaries user2movie , movie2user, usermovie_rating"
      ]
    },
    {
      "cell_type": "code",
      "metadata": {
        "id": "RZeDk4erFKuo"
      },
      "source": [
        "import pickle\n",
        "from sklearn.utils import shuffle"
      ],
      "execution_count": null,
      "outputs": []
    },
    {
      "cell_type": "code",
      "metadata": {
        "id": "JU47sIupFbzr"
      },
      "source": [
        "#split small dataset into train and test set\n",
        "ratings_small = shuffle(ratings_small)\n",
        "cutoff = int(0.8*len(ratings_small))\n",
        "ratings_train = ratings_small.iloc[:cutoff,:]\n",
        "ratings_test = ratings_small.iloc[cutoff:,:]"
      ],
      "execution_count": null,
      "outputs": []
    },
    {
      "cell_type": "code",
      "metadata": {
        "id": "LFP6VpjjGaEc"
      },
      "source": [
        "user2movie = dict()\n",
        "movie2user = dict()\n",
        "usermovie2rating = dict()"
      ],
      "execution_count": null,
      "outputs": []
    },
    {
      "cell_type": "code",
      "metadata": {
        "id": "uAY9VrLQG_LY"
      },
      "source": [
        "count = 0\n",
        "def create_lookups_dicts(row):\n",
        "  userId = int(row.userId)\n",
        "  movieId = int(row.movieId)\n",
        "\n",
        "  if userId in user2movie:\n",
        "    user2movie[userId].append(movieId)\n",
        "  else:\n",
        "    user2movie[userId] = [movieId]\n",
        "  \n",
        "  if movieId in movie2user:\n",
        "    movie2user[movieId].append(userId)\n",
        "  else:\n",
        "    movie2user[movieId] = [userId]\n",
        "  \n",
        "  usermovie2rating[(userId,movieId)] = row['rating']\n",
        "  global count\n",
        "  count+=1\n",
        " # print(\"Processed %.3f\".format(float(count)/cutoff))\n",
        "\n",
        "ratings_train = ratings_train.apply(create_lookups_dicts, axis=1)\n"
      ],
      "execution_count": null,
      "outputs": []
    },
    {
      "cell_type": "code",
      "metadata": {
        "id": "OyW--gqeW9Fo"
      },
      "source": [
        "usermovie2rating_test = dict()\n",
        "count = 0\n",
        "def create_lookups_dicts2(row):\n",
        "\n",
        "  userId = int(row.userId)\n",
        "  movieId = int(row.movieId)\n",
        " \n",
        "  usermovie2rating_test[(userId,movieId)] = row['rating']\n",
        "  global count\n",
        "  count+=1\n",
        "  #print(\"Processed %.3f\".format(float(count)/ratings_test))\n",
        "\n",
        "ratings_test = ratings_test.apply(create_lookups_dicts2, axis=1)"
      ],
      "execution_count": null,
      "outputs": []
    },
    {
      "cell_type": "code",
      "metadata": {
        "id": "Rqr_5McZFb1b"
      },
      "source": [
        "print(movie2user)"
      ],
      "execution_count": null,
      "outputs": []
    },
    {
      "cell_type": "code",
      "metadata": {
        "id": "_uQDFpJVUaWH"
      },
      "source": [
        "with open(\"user2movie.json\", 'wb') as f:\n",
        "  pickle.dump(user2movie, f)\n",
        "with open(\"movie2user.json\", 'wb') as f:\n",
        "  pickle.dump(movie2user, f)\n",
        "with open(\"usermovie2rating.json\", 'wb') as f:\n",
        "  pickle.dump(usermovie2rating, f)\n",
        "with open(\"usermovie2rating_test.json\", 'wb') as f:\n",
        "  pickle.dump(usermovie2rating_test, f)"
      ],
      "execution_count": null,
      "outputs": []
    },
    {
      "cell_type": "code",
      "metadata": {
        "colab": {
          "base_uri": "https://localhost:8080/"
        },
        "id": "3GvGmUdKVRnn",
        "outputId": "053494ac-52d3-4bb1-c406-4b98bc0365bc"
      },
      "source": [
        "from google.colab import drive\n",
        "drive.mount('/content/drive')"
      ],
      "execution_count": null,
      "outputs": [
        {
          "output_type": "stream",
          "text": [
            "Drive already mounted at /content/drive; to attempt to forcibly remount, call drive.mount(\"/content/drive\", force_remount=True).\n"
          ],
          "name": "stdout"
        }
      ]
    },
    {
      "cell_type": "code",
      "metadata": {
        "id": "TFQKBKo2UmgL"
      },
      "source": [
        "!cp user2movie.json /content/drive/MyDrive/colab-mount/collaborative-filtering/\n",
        "!cp movie2user.json /content/drive/MyDrive/colab-mount/collaborative-filtering/\n",
        "!cp usermovie2rating.json /content/drive/MyDrive/colab-mount/collaborative-filtering/\n",
        "!cp usermovie2rating_test.json /content/drive/MyDrive/colab-mount/collaborative-filtering/"
      ],
      "execution_count": null,
      "outputs": []
    },
    {
      "cell_type": "markdown",
      "metadata": {
        "id": "rtm-5M_fWMGf"
      },
      "source": [
        "## User-User collaborative filtering"
      ]
    },
    {
      "cell_type": "code",
      "metadata": {
        "id": "fdjhgZRXYV6w"
      },
      "source": [
        "from datetime import datetime\n",
        "from sortedcontainers import SortedList\n",
        "\n",
        "folder = \"/content/drive/MyDrive/colab-mount/collaborative-filtering/\""
      ],
      "execution_count": null,
      "outputs": []
    },
    {
      "cell_type": "code",
      "metadata": {
        "id": "zcRP074AWQQ3"
      },
      "source": [
        "with open(folder+\"user2movie.json\",'rb') as f:\n",
        "  user2movie = pickle.load(f)\n",
        "with open(folder+\"movie2user.json\",'rb') as f:\n",
        "  movie2user = pickle.load(f)\n",
        "with open(folder+\"usermovie2rating.json\",'rb') as f:\n",
        "  usermovie2rating = pickle.load(f)\n",
        "with open(folder+\"usermovie2rating_test.json\",'rb') as f:\n",
        "  usermovie2rating_test = pickle.load(f)"
      ],
      "execution_count": 15,
      "outputs": []
    },
    {
      "cell_type": "code",
      "metadata": {
        "colab": {
          "base_uri": "https://localhost:8080/"
        },
        "id": "uf4-v2Kgna8U",
        "outputId": "358ba37b-a028-4b41-b54c-961a79b7227f"
      },
      "source": [
        "N  = np.max(list(user2movie.keys())) + 1 #Number of users\n",
        "\n",
        "m1 = max(list(movie2user.keys()))  #max of movieId in train set\n",
        "m2 = max([m for (u,m),r in usermovie2rating_test.items()]) #max of movieId in test set\n",
        "M = max(m1,m2) + 1  #Number of movies\n",
        "print(\"Number of users \", N)\n",
        "print(\"Number of movies \", M)"
      ],
      "execution_count": null,
      "outputs": [
        {
          "output_type": "stream",
          "text": [
            "Number of users  1000\n",
            "Number of movies  200\n"
          ],
          "name": "stdout"
        }
      ]
    },
    {
      "cell_type": "code",
      "metadata": {
        "id": "aDBv67ChpbtQ"
      },
      "source": [
        "from google.colab import output\n",
        "K = 25\n",
        "limit = 5\n",
        "\n",
        "neighbours = []\n",
        "averages = []\n",
        "deviations = []\n",
        "\n",
        "for i in range(N):\n",
        "  #find the 25 closest users to user i\n",
        "  movies_i = user2movie[i]\n",
        "  movies_i_set = set(movies_i)\n",
        "\n",
        "  #calculate average and deivation\n",
        "  ratings_i = {movie:usermovie2rating[i,movie] for movie in movies_i}\n",
        "  average_i = np.mean(list(ratings_i.values()))\n",
        "  deviation_i = {movie:(rating - average_i) for movie,rating in ratings_i.items()}\n",
        "  deviation_i_values = np.array(list(deviation_i.values()))\n",
        "  sigma_i = np.sqrt(deviation_i_values.dot(deviation_i_values))\n",
        "\n",
        "  averages.append(average_i)\n",
        "  deviations.append(deviation_i)\n",
        "\n",
        "  l_sorted = SortedList()\n",
        "  for j in range(N):\n",
        "    if j!=i:\n",
        "      movies_j = user2movie[j]\n",
        "      movies_j_set = set(movies_j)\n",
        "      common_movies = (movies_i_set & movies_j_set)\n",
        "\n",
        "      if len(common_movies) > limit :\n",
        "          ratings_j = {movie:usermovie2rating[j,movie] for movie in movies_j}\n",
        "          average_j = np.mean(list(ratings_j.values()))\n",
        "          deviation_j = {movie:(rating - average_j) for movie,rating in ratings_j.items()}\n",
        "          deviation_j_values = np.array(list(deviation_j.values()))\n",
        "          sigma_j = np.sqrt(deviation_j_values.dot(deviation_j_values))\n",
        "\n",
        "          numerator = sum(deviation_i[m]*deviation_j[m] for m in common_movies)\n",
        "          w_ij = numerator / (sigma_i * sigma_j)\n",
        "\n",
        "\n",
        "          l_sorted.add((-w_ij, j))\n",
        "          if len(l_sorted) > K:\n",
        "            del l_sorted[-1]\n",
        "      output.clear()\n",
        "      print(i,j)\n",
        "\n",
        "  neighbours.append(l_sorted)"
      ],
      "execution_count": null,
      "outputs": []
    },
    {
      "cell_type": "code",
      "metadata": {
        "id": "86MXpTu9sJD5"
      },
      "source": [
        "with open(\"neighbours.json\", 'wb') as f:\n",
        "  pickle.dump(neighbours, f)\n",
        "\n",
        "\n",
        "!cp neighbours.json  /content/drive/MyDrive/colab-mount/collaborative-filtering/\n",
        "\n",
        "with open(\"averages.json\", 'wb') as f:\n",
        "  pickle.dump(averages, f)\n",
        "\n",
        "!cp averages.json  /content/drive/MyDrive/colab-mount/collaborative-filtering/\n",
        "\n",
        "with open(\"deviations.json\", 'wb') as f:\n",
        "  pickle.dump(deviations, f)\n",
        "\n",
        "!cp deviations.json  /content/drive/MyDrive/colab-mount/collaborative-filtering/\n",
        "\n",
        "\n",
        "\n"
      ],
      "execution_count": null,
      "outputs": []
    },
    {
      "cell_type": "code",
      "metadata": {
        "id": "cq7-bYrpqaoj"
      },
      "source": [
        "with open(folder+\"averages.json\", 'rb') as f:\n",
        "  averages = pickle.load(f)\n",
        "\n",
        "with open(folder+\"deviations.json\", 'rb') as f:\n",
        "  deviations = pickle.load(f)\n",
        "\n",
        "with open(folder+\"neighbours.json\", 'rb') as f:\n",
        "  neighbours = pickle.load(f)\n"
      ],
      "execution_count": null,
      "outputs": []
    },
    {
      "cell_type": "code",
      "metadata": {
        "id": "KnDAOdvnm5Gs"
      },
      "source": [
        "def predict(i,m):\n",
        "  numerator = 0\n",
        "  denominator = 0\n",
        "  for neg_w, j in neighbours[i]:\n",
        "    try :\n",
        "      numerator += -neg_w * deviations[j][m]\n",
        "      denominator += abs(neg_w)\n",
        "    except KeyError:\n",
        "      pass\n",
        "  if denominator == 0:\n",
        "    prediction = averages[i]\n",
        "  else:\n",
        "    prediction  = numerator/denominator + averages[i]\n",
        "  \n",
        "  prediction = min(5,prediction)\n",
        "  prediction = max(0.5, prediction)\n",
        "  return prediction"
      ],
      "execution_count": null,
      "outputs": []
    },
    {
      "cell_type": "code",
      "metadata": {
        "id": "IxU1Bh1RBh6q"
      },
      "source": [
        "neighbours[0]"
      ],
      "execution_count": null,
      "outputs": []
    },
    {
      "cell_type": "code",
      "metadata": {
        "id": "gL4FrpUNrgTS",
        "colab": {
          "base_uri": "https://localhost:8080/"
        },
        "outputId": "250442aa-ea16-46b2-f590-5d3d771fa022"
      },
      "source": [
        "predict(0,0)"
      ],
      "execution_count": 21,
      "outputs": [
        {
          "output_type": "execute_result",
          "data": {
            "text/plain": [
              "4.752034287815787"
            ]
          },
          "metadata": {
            "tags": []
          },
          "execution_count": 21
        }
      ]
    },
    {
      "cell_type": "code",
      "metadata": {
        "colab": {
          "base_uri": "https://localhost:8080/"
        },
        "id": "tVH6eoxEI4aS",
        "outputId": "d9c33bbf-a1d2-4e9e-8475-8d6fcf3f1b6b"
      },
      "source": [
        "usermovie2rating[0,1]"
      ],
      "execution_count": 20,
      "outputs": [
        {
          "output_type": "execute_result",
          "data": {
            "text/plain": [
              "5.0"
            ]
          },
          "metadata": {
            "tags": []
          },
          "execution_count": 20
        }
      ]
    },
    {
      "cell_type": "code",
      "metadata": {
        "id": "UHLyEVlaOqHo"
      },
      "source": [
        "train_predictions = []\n",
        "train_targets = []\n",
        "\n",
        "for (i,m), target in usermovie2rating.items():\n",
        "  train_predictions.append(predict(i,m))\n",
        "  train_targets.append(target)\n",
        "\n",
        "test_predictions = []\n",
        "test_targets = []\n",
        "\n",
        "for (i,m), target in usermovie2rating_test.items():\n",
        "  test_predictions.append(predict(i,m))\n",
        "  test_targets.append(target)\n",
        "\n"
      ],
      "execution_count": 24,
      "outputs": []
    },
    {
      "cell_type": "code",
      "metadata": {
        "colab": {
          "base_uri": "https://localhost:8080/"
        },
        "id": "XaNFfwtiSYK8",
        "outputId": "102557d8-4324-47a6-bd21-62f57c61a2c9"
      },
      "source": [
        "sumsquare_errors = 0.0\n",
        "for i in range(len(train_predictions)):\n",
        "  error = train_predictions[i] - train_targets[i] \n",
        "  sumsquare_errors += error*error\n",
        "mse = sumsquare_errors/len(train_predictions)\n",
        "train_rmse = np.sqrt(sumsquare_errors/len(train_predictions))\n",
        "train_rmse"
      ],
      "execution_count": 40,
      "outputs": [
        {
          "output_type": "execute_result",
          "data": {
            "text/plain": [
              "0.6782824715942573"
            ]
          },
          "metadata": {
            "tags": []
          },
          "execution_count": 40
        }
      ]
    },
    {
      "cell_type": "code",
      "metadata": {
        "colab": {
          "base_uri": "https://localhost:8080/"
        },
        "id": "RH-OsmjIUYC5",
        "outputId": "b0d1e6d4-5ee2-46ef-b1ed-c87c29fa3af5"
      },
      "source": [
        "sumsquare_errors = 0.0\n",
        "for i in range(len(test_predictions)):\n",
        "  error = test_predictions[i] - test_targets[i] \n",
        "  sumsquare_errors += error*error\n",
        "mse = sumsquare_errors/len(test_predictions)\n",
        "test_rmse = np.sqrt(sumsquare_errors/len(test_predictions))\n",
        "test_rmse"
      ],
      "execution_count": 41,
      "outputs": [
        {
          "output_type": "execute_result",
          "data": {
            "text/plain": [
              "0.7697824262119587"
            ]
          },
          "metadata": {
            "tags": []
          },
          "execution_count": 41
        }
      ]
    },
    {
      "cell_type": "code",
      "metadata": {
        "colab": {
          "base_uri": "https://localhost:8080/"
        },
        "id": "vhCpW_lGV3pF",
        "outputId": "b9ce9ed1-1e50-4903-8178-7f8ac07ff719"
      },
      "source": [
        "#Alternative method to find rmse\n",
        "def mse(p, t):\n",
        "  p = np.array(p)\n",
        "  t = np.array(t)\n",
        "  return np.mean((p-t)**2)**0.5\n",
        "print(\"Train rmse\", rmse(train_predictions,train_targets))\n",
        "print(\"Test rmse\", rmse(test_predictions,test_targets))"
      ],
      "execution_count": 43,
      "outputs": [
        {
          "output_type": "stream",
          "text": [
            "Train mse 0.6782824715942573\n",
            "Test mse 0.7697824262119608\n"
          ],
          "name": "stdout"
        }
      ]
    }
  ]
}